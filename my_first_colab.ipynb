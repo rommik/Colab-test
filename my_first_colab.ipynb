{
  "nbformat": 4,
  "nbformat_minor": 0,
  "metadata": {
    "colab": {
      "name": "my-first-colab.ipynb",
      "provenance": [],
      "authorship_tag": "ABX9TyPkUn7G7nvhHrQByR8TJuLg",
      "include_colab_link": true
    },
    "kernelspec": {
      "name": "python3",
      "display_name": "Python 3"
    },
    "language_info": {
      "name": "python"
    }
  },
  "cells": [
    {
      "cell_type": "markdown",
      "metadata": {
        "id": "view-in-github",
        "colab_type": "text"
      },
      "source": [
        "<a href=\"https://colab.research.google.com/github/rommik/Colab-test/blob/main/my_first_colab.ipynb\" target=\"_parent\"><img src=\"https://colab.research.google.com/assets/colab-badge.svg\" alt=\"Open In Colab\"/></a>"
      ]
    },
    {
      "cell_type": "markdown",
      "source": [
        "This is a test colab notebook"
      ],
      "metadata": {
        "id": "ySYDY0FOw0lc"
      }
    },
    {
      "cell_type": "code",
      "execution_count": 2,
      "metadata": {
        "colab": {
          "base_uri": "https://localhost:8080/"
        },
        "id": "ne4NgIsowvWE",
        "outputId": "0c682766-f6d4-4986-da30-46cf33992b62"
      },
      "outputs": [
        {
          "output_type": "stream",
          "name": "stdout",
          "text": [
            "Hello From Colab Notebook\n"
          ]
        }
      ],
      "source": [
        "print('Hello From Colab Notebook')"
      ]
    }
  ]
}